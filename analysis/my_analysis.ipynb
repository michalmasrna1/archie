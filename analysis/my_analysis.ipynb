{
 "cells": [
  {
   "cell_type": "code",
   "execution_count": 1,
   "metadata": {},
   "outputs": [],
   "source": [
    "import pandas as pd\n",
    "import tables\n",
    "from analysisfunctions import *"
   ]
  },
  {
   "cell_type": "code",
   "execution_count": 2,
   "metadata": {},
   "outputs": [],
   "source": [
    "f = tables.open_file(\"output.hdf5\", 'r')"
   ]
  },
  {
   "cell_type": "code",
   "execution_count": 5,
   "metadata": {},
   "outputs": [
    {
     "name": "stdout",
     "output_type": "stream",
     "text": [
      "/ (RootGroup) ''\n",
      "/Backup (Group) 'Group containing backup and run information'\n",
      "/Goldenrun (Group) 'Group containing all information about goldenrun'\n",
      "/Pregoldenrun (Group) 'Group containing all information regarding firmware running before start point is reached'\n",
      "/fault (Group) 'Group containing fault results'\n",
      "0\n",
      "3\n"
     ]
    }
   ],
   "source": [
    "print(f.root)\n",
    "faultgroup = f.root\n",
    "for n in faultgroup._f_iter_nodes('Group'):\n",
    "    print(n)\n",
    "    \n",
    "# Findout if experiments reached end status and sort them\n",
    "[success, fail] = filter_endstatus_status(f.root.fault)\n",
    "print(len(success))\n",
    "print(len(fail))"
   ]
  },
  {
   "cell_type": "code",
   "execution_count": 14,
   "metadata": {},
   "outputs": [
    {
     "data": {
      "text/plain": [
       "/fault/experiment0/faults (Table(1,)shuffle, zlib(1)) 'Fault list table that contains the fault configuration used for this experiment'\n",
       "  description := {\n",
       "  \"fault_address\": UInt64Col(shape=(), dflt=0, pos=0),\n",
       "  \"fault_lifespan\": UInt64Col(shape=(), dflt=0, pos=1),\n",
       "  \"fault_mask\": UInt64Col(shape=(), dflt=0, pos=2),\n",
       "  \"fault_mask_upper\": UInt64Col(shape=(), dflt=0, pos=3),\n",
       "  \"fault_model\": UInt8Col(shape=(), dflt=0, pos=4),\n",
       "  \"fault_num_bytes\": UInt8Col(shape=(), dflt=0, pos=5),\n",
       "  \"fault_type\": UInt8Col(shape=(), dflt=0, pos=6),\n",
       "  \"fault_wildcard\": BoolCol(shape=(), dflt=False, pos=7),\n",
       "  \"trigger_address\": UInt64Col(shape=(), dflt=0, pos=8),\n",
       "  \"trigger_hitcounter\": UInt64Col(shape=(), dflt=0, pos=9)}\n",
       "  byteorder := 'little'\n",
       "  chunkshape := (1260,)"
      ]
     },
     "execution_count": 14,
     "metadata": {},
     "output_type": "execute_result"
    }
   ],
   "source": [
    "f.root.fault.experiment0.faults"
   ]
  }
 ],
 "metadata": {
  "kernelspec": {
   "display_name": ".venv",
   "language": "python",
   "name": "python3"
  },
  "language_info": {
   "codemirror_mode": {
    "name": "ipython",
    "version": 3
   },
   "file_extension": ".py",
   "mimetype": "text/x-python",
   "name": "python",
   "nbconvert_exporter": "python",
   "pygments_lexer": "ipython3",
   "version": "3.10.12"
  }
 },
 "nbformat": 4,
 "nbformat_minor": 2
}
